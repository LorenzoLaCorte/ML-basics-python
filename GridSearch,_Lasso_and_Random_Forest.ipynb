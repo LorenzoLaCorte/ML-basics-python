{
  "nbformat": 4,
  "nbformat_minor": 0,
  "metadata": {
    "colab": {
      "provenance": [],
      "mount_file_id": "1HSzJEVriLQ_swaG3_esJkZlHHgskioNk",
      "authorship_tag": "ABX9TyMYVAcEWjQbeN+LFPlSTOAP",
      "include_colab_link": true
    },
    "kernelspec": {
      "name": "python3",
      "display_name": "Python 3"
    },
    "language_info": {
      "name": "python"
    }
  },
  "cells": [
    {
      "cell_type": "markdown",
      "metadata": {
        "id": "view-in-github",
        "colab_type": "text"
      },
      "source": [
        "<a href=\"https://colab.research.google.com/github/LorenzoLaCorte/ML-basics-python/blob/main/GridSearch%2C_Lasso_and_Random_Forest.ipynb\" target=\"_parent\"><img src=\"https://colab.research.google.com/assets/colab-badge.svg\" alt=\"Open In Colab\"/></a>"
      ]
    },
    {
      "cell_type": "markdown",
      "source": [
        "# Crime"
      ],
      "metadata": {
        "id": "31Zc_Er1fYwy"
      }
    },
    {
      "cell_type": "code",
      "source": [
        "#CRIME\n",
        "import pandas as pd \n",
        "import numpy as np\n",
        "import matplotlib.pyplot as plt\n",
        "\n",
        "ix = range(0,247)\n",
        "iy = 247 # last column is the one to predict  \n",
        "L = pd.read_csv('/content/drive/MyDrive/MLDA/VariousDatasets/CRIME/L.csv') # learning matrix\n",
        "T = pd.read_csv('/content/drive/MyDrive/MLDA/VariousDatasets/CRIME/T.csv') # test matrix\n",
        "L = L.to_numpy()\n",
        "T = T.to_numpy()\n",
        "XL = L[:,ix]\n",
        "YL = L[:,iy]\n",
        "XT = T[:,ix]\n",
        "YT = T[:,iy]\n",
        "\n",
        "# Normalization Step\n",
        "from sklearn import preprocessing\n",
        "\n",
        "scalerX = preprocessing.MinMaxScaler()\n",
        "XL = scalerX.fit_transform(XL)\n",
        "XT = scalerX.transform(XT)\n",
        "\n",
        "# KernelRidge Model\n",
        "from sklearn.kernel_ridge import KernelRidge\n",
        "from sklearn.model_selection import GridSearchCV\n",
        "\n",
        "# define the grid which will be useful to search the best combination of these parameters\n",
        "grid = {'alpha': np.logspace(-4,3,5),\n",
        "        'kernel': ['rbf'],\n",
        "        'gamma': np.logspace(-4,3,5)}\n",
        "\n",
        "# Finding the best parameters\n",
        "# estimator: method we want to use, parameter_grid: grid, scoring: method to compute the score, cv: percentange of data for validation\n",
        "MS = GridSearchCV(estimator = KernelRidge(),\n",
        "                  param_grid = grid,\n",
        "                  scoring = 'neg_mean_absolute_error',\n",
        "                  cv = 10,\n",
        "                  verbose = 0)\n",
        "\n",
        "H = MS.fit(XL, YL)"
      ],
      "metadata": {
        "id": "k5exqdtYSjq2"
      },
      "execution_count": 27,
      "outputs": []
    },
    {
      "cell_type": "code",
      "source": [
        "# Now let's use the best hyperparameters I found in the previous step\n",
        "M = KernelRidge(alpha = H.best_params_['alpha'],\n",
        "                kernel = H.best_params_['kernel'], \n",
        "                gamma = H.best_params_['gamma'])\n",
        "\n",
        "M.fit(XL,YL)\n",
        "\n",
        "# Evaluate the performance of the model: predict on the test set\n",
        "# To have an idea of the quality of the model we use a scatter \n",
        "YP = M.predict(XT)\n",
        "err = np.mean(np.abs(YT-YP))\n",
        "print(err)\n",
        "fig, ax = plt.subplots()\n",
        "ax.plot(YT,YP,'bo')\n",
        "tmp = [np.min(YT),np.max(YT)]\n",
        "ax.plot(tmp,tmp,'r')"
      ],
      "metadata": {
        "colab": {
          "base_uri": "https://localhost:8080/",
          "height": 300
        },
        "id": "9SiHlTN2gZf4",
        "outputId": "1a18e6d6-a7e7-4bbf-f537-bd27ff24591d"
      },
      "execution_count": 28,
      "outputs": [
        {
          "metadata": {
            "tags": null
          },
          "name": "stdout",
          "output_type": "stream",
          "text": [
            "0.08063487861180049\n"
          ]
        },
        {
          "data": {
            "text/plain": [
              "[<matplotlib.lines.Line2D at 0x7f57e056b210>]"
            ]
          },
          "execution_count": 28,
          "metadata": {},
          "output_type": "execute_result"
        },
        {
          "data": {
            "image/png": "[encoded data removed]",
            "text/plain": [
              "<Figure size 432x288 with 1 Axes>"
            ]
          },
          "metadata": {},
          "output_type": "display_data"
        }
      ]
    },
    {
      "cell_type": "markdown",
      "source": [
        "\n",
        "# Mnist"
      ],
      "metadata": {
        "id": "cAPVQkX2Yuzq"
      }
    },
    {
      "cell_type": "code",
      "source": [
        "import pandas as pd \n",
        "import numpy as np\n",
        "import matplotlib.pyplot as plt\n",
        "from sklearn import preprocessing\n",
        "from random import sample\n",
        "\n",
        "d1 = 0\n",
        "d2 = 1\n",
        "\n",
        "D1 = pd.read_csv('drive/MyDrive/MLDA/VariousDatasets/MNIST/Mnist%d.csv' %d1)\n",
        "D2 = pd.read_csv('drive/MyDrive/MLDA/VariousDatasets/MNIST/Mnist%d.csv' %d2)\n",
        "D1 = D1.to_numpy()\n",
        "D2 = D2.to_numpy()\n",
        "\n",
        "nl = 100\n",
        "nt = 1000\n",
        "\n",
        "# sample digit one and digit two\n",
        "i = sample(range(D1.shape[0]),nl+nt)\n",
        "D1 = D1[i,:]\n",
        "i = sample(range(D2.shape[0]),nl+nt)\n",
        "D2 = D2[i,:]\n",
        "\n",
        "# learning set concat the matrix of the first digit with the first n sample of the digit two\n",
        "XL = np.concatenate((D1[range(0,nl),:],D2[range(0,nl),:]),axis=0)\n",
        "YL = np.append(-np.ones(nl),np.ones(nl))\n",
        "XT = np.concatenate((D1[range(nl,nl+nt),:],D2[range(nl,nl+nt),:]),axis=0)\n",
        "YT = np.append(-np.ones(nt),np.ones(nt))\n",
        "\n",
        "# normalize the dataset\n",
        "scalerX = preprocessing.MinMaxScaler()\n",
        "XL = scalerX.fit_transform(XL)\n",
        "XT = scalerX.transform(XT)\n",
        "\n",
        "# visualize the dataset \n",
        "i = 0 # 0 is a 0, 1000 is a 1\n",
        "fig = plt.figure()\n",
        "tmp = np.reshape(XT[i,:],(28,28))\n",
        "plt.imshow(tmp,cmap='gray')"
      ],
      "metadata": {
        "colab": {
          "base_uri": "https://localhost:8080/",
          "height": 282
        },
        "id": "PAZlJu_TYxWB",
        "outputId": "7891784b-1a1b-4c08-f366-06eebc5caa45"
      },
      "execution_count": 29,
      "outputs": [
        {
          "data": {
            "text/plain": [
              "<matplotlib.image.AxesImage at 0x7f57e0510b10>"
            ]
          },
          "execution_count": 29,
          "metadata": {},
          "output_type": "execute_result"
        },
        {
          "data": {
            "image/png": "[encoded data removed]",
            "text/plain": [
              "<Figure size 432x288 with 1 Axes>"
            ]
          },
          "metadata": {},
          "output_type": "display_data"
        }
      ]
    },
    {
      "cell_type": "code",
      "source": [
        "# in classification the best way to visualize the quality of the model is the confusion matrix\n",
        "# who tells all the possibilities: on the diagonal how many are predicted wrong\n",
        "from sklearn.linear_model import Ridge\n",
        "from sklearn.metrics import confusion_matrix\n",
        "\n",
        "alpha = .01\n",
        "M = Ridge(alpha = alpha)\n",
        "M.fit(XL,YL)\n",
        "YP = M.predict(XT)\n",
        "YP[YP <= 0] = -1\n",
        "YP[YP  > 0] = +1\n",
        "confusion_matrix(YT,YP)"
      ],
      "metadata": {
        "colab": {
          "base_uri": "https://localhost:8080/"
        },
        "id": "y4J7BlidbuQ2",
        "outputId": "4aecae44-081d-4945-9d43-3001f9dc0f36"
      },
      "execution_count": 30,
      "outputs": [
        {
          "data": {
            "text/plain": [
              "array([[972,  28],\n",
              "       [  7, 993]])"
            ]
          },
          "execution_count": 30,
          "metadata": {},
          "output_type": "execute_result"
        }
      ]
    },
    {
      "cell_type": "code",
      "source": [
        "fig = plt.figure()\n",
        "tmp = np.reshape(M.coef_,(28,28))\n",
        "plt.imshow(tmp)\n",
        "plt.colorbar()"
      ],
      "metadata": {
        "colab": {
          "base_uri": "https://localhost:8080/",
          "height": 286
        },
        "id": "tlu1L2zFeFMe",
        "outputId": "05412566-6540-425b-bd25-3ecdd4dce463"
      },
      "execution_count": 31,
      "outputs": [
        {
          "data": {
            "text/plain": [
              "<matplotlib.colorbar.Colorbar at 0x7f57e04d33d0>"
            ]
          },
          "execution_count": 31,
          "metadata": {},
          "output_type": "execute_result"
        },
        {
          "data": {
            "image/png": "[encoded data removed]",
            "text/plain": [
              "<Figure size 432x288 with 2 Axes>"
            ]
          },
          "metadata": {},
          "output_type": "display_data"
        }
      ]
    },
    {
      "cell_type": "markdown",
      "source": [
        "## Lasso\n",
        "\n",
        "Let's try to see the difference when using another algorithm:\n",
        "Lasso: norm1 of the weight -> faster solution"
      ],
      "metadata": {
        "id": "erPE_L-_bW6P"
      }
    },
    {
      "cell_type": "code",
      "source": [
        "from sklearn.linear_model import Lasso\n",
        "from sklearn.metrics import confusion_matrix\n",
        "\n",
        "alpha = .01\n",
        "M = Lasso(alpha = alpha)\n",
        "M.fit(XL,YL)\n",
        "YP = M.predict(XT)\n",
        "YP[YP <= 0] = -1\n",
        "YP[YP  > 0] = +1\n",
        "confusion_matrix(YT,YP)\n",
        "fig = plt.figure()\n",
        "tmp = np.reshape(M.coef_,(28,28))\n",
        "plt.imshow(tmp)\n",
        "plt.colorbar()"
      ],
      "metadata": {
        "colab": {
          "base_uri": "https://localhost:8080/",
          "height": 282
        },
        "id": "2htGVr8EcrJx",
        "outputId": "d83ac42b-e27a-41d3-9f44-2f462af5442e"
      },
      "execution_count": 32,
      "outputs": [
        {
          "data": {
            "text/plain": [
              "<matplotlib.colorbar.Colorbar at 0x7f57e0444450>"
            ]
          },
          "execution_count": 32,
          "metadata": {},
          "output_type": "execute_result"
        },
        {
          "output_type": "display_data",
          "data": {
            "text/plain": [
              "<Figure size 432x288 with 2 Axes>"
            ],
            "image/png": "[encoded data removed]"
          },
          "metadata": {
            "needs_background": "light"
          }
        }
      ]
    },
    {
      "cell_type": "markdown",
      "source": [
        "This model is very interpretable: at the center is higher probable that it's a 1 (yellow).\n",
        "This model is although more vulnerable: if I change the center it will fail."
      ],
      "metadata": {
        "id": "4bFxx-59ekVo"
      }
    },
    {
      "cell_type": "markdown",
      "source": [
        "## Predict Every Digit"
      ],
      "metadata": {
        "id": "E0IoWw3CfqOM"
      }
    },
    {
      "cell_type": "code",
      "source": [
        "import pandas as pd \n",
        "import numpy as np\n",
        "import matplotlib.pyplot as plt\n",
        "from sklearn import preprocessing\n",
        "from random import sample\n",
        "\n",
        "folder = 'drive/MyDrive/MLDA/VariousDatasets/MNIST/'\n",
        "nl = 30\n",
        "nt = 100\n",
        "\n",
        "# use the same process as before but for all the ten digits\n",
        "for i in range(0,10):\n",
        "  file = folder + 'Mnist%d.csv' %i\n",
        "  D = pd.read_csv(file).to_numpy()\n",
        "  j = sample(range(D.shape[0]),nl+nt)\n",
        "  D = D[j,:]\n",
        "  if (i == 0):\n",
        "    XL = D[range(0,nl),:]\n",
        "    YL = i*np.ones(nl)\n",
        "    XT = D[range(nl,nl+nt),:]\n",
        "    YT = i*np.ones(nt)\n",
        "  else:\n",
        "    XL = np.concatenate((XL,D[range(0,nl),:]),axis=0)\n",
        "    YL = np.append(YL,i*np.ones(nl))\n",
        "    XT = np.concatenate((XT,D[range(nl,nl+nt),:]),axis=0)\n",
        "    YT = np.append(YT,i*np.ones(nt))\n",
        "\n",
        "# normalize the data\n",
        "scalerX = preprocessing.MinMaxScaler()\n",
        "XL = scalerX.fit_transform(XL)\n",
        "XT = scalerX.transform(XT)"
      ],
      "metadata": {
        "id": "HcxL5ZKGfxSZ"
      },
      "execution_count": 33,
      "outputs": []
    },
    {
      "cell_type": "code",
      "source": [
        "# construct the grid search that is able to find the optimal parameter\n",
        "# we use SVC as estimator\n",
        "# we have also to change the scoring because we are in classification\n",
        "\n",
        "from sklearn.model_selection import GridSearchCV\n",
        "from sklearn.svm import SVC\n",
        "\n",
        "grid = {'C': np.logspace(-4,3,5),\n",
        "        'kernel': ['linear']}\n",
        "\n",
        "MS = GridSearchCV(estimator = SVC(),\n",
        "                  param_grid = grid,\n",
        "                  scoring = 'balanced_accuracy',\n",
        "                  cv = 10,\n",
        "                  verbose = 0)\n",
        "H = MS.fit(XL,YL)\n",
        "\n",
        "M = SVC(C = H.best_params_['C'],\n",
        "        kernel = H.best_params_['kernel'])\n",
        "M.fit(XL,YL)"
      ],
      "metadata": {
        "colab": {
          "base_uri": "https://localhost:8080/"
        },
        "id": "hDZTAh33iLI_",
        "outputId": "d89041d7-649f-43a0-a903-faa2d9429520"
      },
      "execution_count": 34,
      "outputs": [
        {
          "output_type": "execute_result",
          "data": {
            "text/plain": [
              "SVC(C=0.31622776601683794, kernel='linear')"
            ]
          },
          "metadata": {},
          "execution_count": 34
        }
      ]
    },
    {
      "cell_type": "code",
      "source": [
        "# then we predict on the testset evaluating the model\n",
        "from sklearn.metrics import confusion_matrix\n",
        "\n",
        "YP = M.predict(XT)\n",
        "confusion_matrix(YT,YP)"
      ],
      "metadata": {
        "colab": {
          "base_uri": "https://localhost:8080/"
        },
        "id": "oojQi5FriXdp",
        "outputId": "083d54b7-f60d-496a-c7d2-b71f4bcd3a4c"
      },
      "execution_count": 35,
      "outputs": [
        {
          "output_type": "execute_result",
          "data": {
            "text/plain": [
              "array([[97,  0,  0,  0,  0,  0,  1,  2,  0,  0],\n",
              "       [ 0, 93,  4,  0,  0,  2,  0,  0,  1,  0],\n",
              "       [ 3,  8, 80,  4,  1,  1,  0,  0,  2,  1],\n",
              "       [ 1,  0,  2, 76,  0,  9,  2,  3,  5,  2],\n",
              "       [ 0,  1,  0,  0, 86,  0,  0,  1,  0, 12],\n",
              "       [ 2,  6,  0,  5,  1, 80,  0,  0,  4,  2],\n",
              "       [ 0,  2,  0,  0,  1,  1, 96,  0,  0,  0],\n",
              "       [ 0,  5,  2,  0,  3,  1,  0, 88,  0,  1],\n",
              "       [ 2,  9,  4,  5,  1,  3,  0,  0, 70,  6],\n",
              "       [ 0,  0,  0,  1,  5,  2,  1,  5,  0, 86]])"
            ]
          },
          "metadata": {},
          "execution_count": 35
        }
      ]
    },
    {
      "cell_type": "markdown",
      "source": [
        "for example: the model makes mistakes on the 3 because it's easy to confuse it with the 8 \n",
        "--> for making this model better I can use more data \n",
        "    (more accurate but takes more time)\n",
        "The library solves the problem in the dual formulation: the time scale up quadratically with the dimension of the data.\n"
      ],
      "metadata": {
        "id": "He_Cz15RiyR4"
      }
    },
    {
      "cell_type": "markdown",
      "source": [
        "# Random Forest\n",
        "This algorithm doesn't suffer from hyperparameter selection.\n",
        "The number of estimator is not an hyperparameter because the more, the better.\n",
        "\n",
        "from sklearn.ensemble import RandomForestClassifier\n",
        "M = RandomForestClassifier(n_estimators = 1000)"
      ],
      "metadata": {
        "id": "pItkTjz_kKfl"
      }
    },
    {
      "cell_type": "code",
      "source": [
        "from sklearn.ensemble import RandomForestClassifier\n",
        "M = RandomForestClassifier(n_estimators = 1000)\n",
        "M.fit(XL,YL)\n",
        "YP = M.predict(XT)\n",
        "confusion_matrix(YT,YP)"
      ],
      "metadata": {
        "colab": {
          "base_uri": "https://localhost:8080/"
        },
        "id": "9Q3vLe7Nk0XN",
        "outputId": "ca69054f-eae2-4662-eade-82e416d9b7de"
      },
      "execution_count": 36,
      "outputs": [
        {
          "output_type": "execute_result",
          "data": {
            "text/plain": [
              "array([[99,  0,  0,  0,  0,  0,  1,  0,  0,  0],\n",
              "       [ 0, 91,  6,  1,  0,  1,  0,  0,  1,  0],\n",
              "       [ 5,  5, 82,  4,  1,  0,  1,  1,  0,  1],\n",
              "       [ 0,  0,  1, 79,  1,  8,  3,  2,  2,  4],\n",
              "       [ 0,  1,  1,  0, 84,  0,  1,  1,  0, 12],\n",
              "       [ 1,  5,  0,  2,  1, 77,  0,  0,  1, 13],\n",
              "       [ 2,  2,  0,  0,  1,  0, 95,  0,  0,  0],\n",
              "       [ 0,  6,  1,  0,  4,  0,  0, 86,  0,  3],\n",
              "       [ 2,  6,  4,  4,  1,  3,  1,  1, 69,  9],\n",
              "       [ 0,  0,  1,  0,  3,  2,  0,  5,  0, 89]])"
            ]
          },
          "metadata": {},
          "execution_count": 36
        }
      ]
    },
    {
      "cell_type": "markdown",
      "source": [
        "## Decision Tree\n",
        "When we use decision tree we don't have to normalize because we use averages\n",
        "\n",
        "In this case we have to tune the hyperparameters:\n",
        "- max_depth\n"
      ],
      "metadata": {
        "id": "oEMzudCAlJNF"
      }
    },
    {
      "cell_type": "code",
      "source": [
        "import pandas as pd \n",
        "import numpy as np\n",
        "import matplotlib.pyplot as plt\n",
        "from sklearn.tree import DecisionTreeRegressor\n",
        "\n",
        "ix = range(0,247)\n",
        "iy = 247\n",
        "L = pd.read_csv('drive/MyDrive/MLDA/VariousDatasets/CRIME/L.csv')\n",
        "T = pd.read_csv('drive/MyDrive/MLDA/VariousDatasets/CRIME/T.csv')\n",
        "L = L.to_numpy()\n",
        "T = T.to_numpy()\n",
        "XL = L[:,ix]\n",
        "YL = L[:,iy]\n",
        "XT = T[:,ix]\n",
        "YT = T[:,iy]\n",
        "\n",
        "M = DecisionTreeRegressor(max_depth = 2)\n",
        "M.fit(XL,YL)\n",
        "\n",
        "YP = M.predict(XT)\n",
        "print(np.mean(np.abs(YP-YT)))\n",
        "\n",
        "fig, ax = plt.subplots()\n",
        "ax.plot(YT,YP,'bo')\n",
        "tmp = [np.min(YT),np.max(YT)]\n",
        "ax.plot(tmp,tmp,'r')"
      ],
      "metadata": {
        "colab": {
          "base_uri": "https://localhost:8080/",
          "height": 300
        },
        "id": "DSFtTFBGlm5F",
        "outputId": "9348feff-37a6-4e52-9559-6ef3c6a573cd"
      },
      "execution_count": 41,
      "outputs": [
        {
          "output_type": "stream",
          "name": "stdout",
          "text": [
            "0.10404613926417139\n"
          ]
        },
        {
          "output_type": "execute_result",
          "data": {
            "text/plain": [
              "[<matplotlib.lines.Line2D at 0x7f57e01d3250>]"
            ]
          },
          "metadata": {},
          "execution_count": 41
        },
        {
          "output_type": "display_data",
          "data": {
            "text/plain": [
              "<Figure size 432x288 with 1 Axes>"
            ],
            "image/png": "[encoded data removed]"
          },
          "metadata": {
            "needs_background": "light"
          }
        }
      ]
    },
    {
      "cell_type": "markdown",
      "source": [
        "The prediction are in horizontal lines: 2^depth levels (lines)"
      ],
      "metadata": {
        "id": "9CBZCAgPmXZ_"
      }
    },
    {
      "cell_type": "code",
      "source": [
        "from sklearn.tree import DecisionTreeRegressor\n",
        "from sklearn import tree\n",
        "\n",
        "fig = plt.figure(figsize=(10,10))\n",
        "_ = tree.plot_tree(M)"
      ],
      "metadata": {
        "colab": {
          "base_uri": "https://localhost:8080/",
          "height": 575
        },
        "id": "uIgCxMIvm1m9",
        "outputId": "aa3d13f6-05ce-400c-d8f4-3f38cf90ef42"
      },
      "execution_count": 45,
      "outputs": [
        {
          "output_type": "display_data",
          "data": {
            "text/plain": [
              "<Figure size 720x720 with 1 Axes>"
            ],
            "image/png": "[encoded data removed]"
          },
          "metadata": {
            "needs_background": "light"
          }
        }
      ]
    }
  ]
}