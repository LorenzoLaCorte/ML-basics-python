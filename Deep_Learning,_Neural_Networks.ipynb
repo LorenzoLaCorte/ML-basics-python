{
  "nbformat": 4,
  "nbformat_minor": 0,
  "metadata": {
    "colab": {
      "provenance": [],
      "include_colab_link": true
    },
    "kernelspec": {
      "name": "python3",
      "display_name": "Python 3"
    },
    "language_info": {
      "name": "python"
    },
    "accelerator": "GPU",
    "gpuClass": "standard"
  },
  "cells": [
    {
      "cell_type": "markdown",
      "metadata": {
        "id": "view-in-github",
        "colab_type": "text"
      },
      "source": [
        "<a href=\"https://colab.research.google.com/github/LorenzoLaCorte/ML-basics-python/blob/main/Deep_Learning%2C_Neural_Networks.ipynb\" target=\"_parent\"><img src=\"https://colab.research.google.com/assets/colab-badge.svg\" alt=\"Open In Colab\"/></a>"
      ]
    },
    {
      "cell_type": "markdown",
      "source": [
        "## Introducing Libraries\n",
        "Main Deep Learning and Neural Network Libraries are:\n",
        "\n",
        "* https://keras.io/ -> Easy to understand, it is implemented at an higher level of abstraction.\n",
        "* https://pytorch.org/ -> For more Advance Users\n",
        "* https://www.fast.ai/ -> For players"
      ],
      "metadata": {
        "id": "3O_TkJfjseZd"
      }
    },
    {
      "cell_type": "code",
      "source": [
        "!nvidia-smi # this utility allows administrators to query GPU device state"
      ],
      "metadata": {
        "colab": {
          "base_uri": "https://localhost:8080/"
        },
        "id": "ezajCJ4Lsd4Z",
        "outputId": "a8c5885a-1417-4401-8c21-f217bbef6887"
      },
      "execution_count": 13,
      "outputs": [
        {
          "output_type": "stream",
          "name": "stdout",
          "text": [
            "Mon Nov 28 21:43:16 2022       \n",
            "+-----------------------------------------------------------------------------+\n",
            "| NVIDIA-SMI 460.32.03    Driver Version: 460.32.03    CUDA Version: 11.2     |\n",
            "|-------------------------------+----------------------+----------------------+\n",
            "| GPU  Name        Persistence-M| Bus-Id        Disp.A | Volatile Uncorr. ECC |\n",
            "| Fan  Temp  Perf  Pwr:Usage/Cap|         Memory-Usage | GPU-Util  Compute M. |\n",
            "|                               |                      |               MIG M. |\n",
            "|===============================+======================+======================|\n",
            "|   0  Tesla T4            Off  | 00000000:00:04.0 Off |                    0 |\n",
            "| N/A   61C    P0    28W /  70W |   1338MiB / 15109MiB |      0%      Default |\n",
            "|                               |                      |                  N/A |\n",
            "+-------------------------------+----------------------+----------------------+\n",
            "                                                                               \n",
            "+-----------------------------------------------------------------------------+\n",
            "| Processes:                                                                  |\n",
            "|  GPU   GI   CI        PID   Type   Process name                  GPU Memory |\n",
            "|        ID   ID                                                   Usage      |\n",
            "|=============================================================================|\n",
            "+-----------------------------------------------------------------------------+\n"
          ]
        }
      ]
    },
    {
      "cell_type": "markdown",
      "source": [
        "## Keras"
      ],
      "metadata": {
        "id": "PIUZqZ90H5fs"
      }
    },
    {
      "cell_type": "code",
      "execution_count": 14,
      "metadata": {
        "id": "mKCItBJoriMU"
      },
      "outputs": [],
      "source": [
        "import numpy as np\n",
        "from tensorflow import keras # we use the easier library\n",
        "from tensorflow.keras import layers"
      ]
    },
    {
      "cell_type": "code",
      "source": [
        "# setting hyperparameters\n",
        "classes = 10\n",
        "shap = (28,28,1) # input of the model\n",
        "\n",
        "(xl,yl), (xt,yt) = keras.datasets.mnist.load_data() # importing dataset\n",
        "xl = xl.astype(\"float32\") / 255.0\n",
        "xt = xt.astype(\"float32\") / 255.0"
      ],
      "metadata": {
        "id": "fBSpM5S1ttIl"
      },
      "execution_count": 15,
      "outputs": []
    },
    {
      "cell_type": "code",
      "source": [
        "print(\"Shape of xl before expansion: \" + str(np.shape(xl)))\n",
        "xl = np.expand_dims(xl,-1)\n",
        "xt = np.expand_dims(xt,-1)\n",
        "print(\"Shape of xl after expansion: \" + str(np.shape(xl)))\n",
        "\n",
        "print(\"\\nShape of yl before conversion: \" + str(np.shape(yl)))\n",
        "# we convert output as binary matrix representation where the class axis is placed last\n",
        "yl = keras.utils.to_categorical(yl,classes)\n",
        "yt = keras.utils.to_categorical(yt,classes) \n",
        "print(\"Shape after conversion: \" + str(np.shape(yl)))"
      ],
      "metadata": {
        "id": "zrNxx1n4wKQO",
        "colab": {
          "base_uri": "https://localhost:8080/"
        },
        "outputId": "5359ea24-0224-4d93-e4a1-74d3e479d703"
      },
      "execution_count": 16,
      "outputs": [
        {
          "output_type": "stream",
          "name": "stdout",
          "text": [
            "Shape of xl before expansion: (60000, 28, 28)\n",
            "Shape of xl after expansion: (60000, 28, 28, 1)\n",
            "\n",
            "Shape of yl before conversion: (60000,)\n",
            "Shape after conversion: (60000, 10)\n"
          ]
        }
      ]
    },
    {
      "cell_type": "markdown",
      "source": [
        "## Feature extraction with a Sequential model\n",
        "A Sequential model is appropriate for a plain stack of layers where each layer has exactly one input tensor and one output tensor.\n",
        "\n",
        "Once a Sequential model has been built, it behaves like a Functional API model. This means that every layer has an input and output attribute. These attributes can be used to do neat things, like quickly creating a model that extracts the outputs of all intermediate layers in a Sequential model.\n",
        "\n",
        "We use **Relu** as activation function."
      ],
      "metadata": {
        "id": "2SDW55GJHkBH"
      }
    },
    {
      "cell_type": "code",
      "source": [
        "model = keras.Sequential(\n",
        "    [\n",
        "        keras.Input(shap),\n",
        "        layers.Conv2D(32,kernel_size=(3,3),activation=\"relu\"),\n",
        "        layers.MaxPooling2D(pool_size=(2,2)),\n",
        "        layers.Conv2D(64,kernel_size=(3,3),activation=\"relu\"),\n",
        "        layers.MaxPooling2D(pool_size=(2,2)),\n",
        "        layers.Flatten(),\n",
        "        layers.Dropout(.5), # w M w\n",
        "        layers.Dense(classes,activation=\"softmax\")\n",
        "    ]\n",
        ")\n",
        "model.summary()"
      ],
      "metadata": {
        "colab": {
          "base_uri": "https://localhost:8080/"
        },
        "id": "y2Ff3eApwstV",
        "outputId": "c7167f95-a643-4d37-edc5-90e34dfe289c"
      },
      "execution_count": 17,
      "outputs": [
        {
          "output_type": "stream",
          "name": "stdout",
          "text": [
            "Model: \"sequential_1\"\n",
            "_________________________________________________________________\n",
            " Layer (type)                Output Shape              Param #   \n",
            "=================================================================\n",
            " conv2d_2 (Conv2D)           (None, 26, 26, 32)        320       \n",
            "                                                                 \n",
            " max_pooling2d_2 (MaxPooling  (None, 13, 13, 32)       0         \n",
            " 2D)                                                             \n",
            "                                                                 \n",
            " conv2d_3 (Conv2D)           (None, 11, 11, 64)        18496     \n",
            "                                                                 \n",
            " max_pooling2d_3 (MaxPooling  (None, 5, 5, 64)         0         \n",
            " 2D)                                                             \n",
            "                                                                 \n",
            " flatten_1 (Flatten)         (None, 1600)              0         \n",
            "                                                                 \n",
            " dropout_1 (Dropout)         (None, 1600)              0         \n",
            "                                                                 \n",
            " dense_1 (Dense)             (None, 10)                16010     \n",
            "                                                                 \n",
            "=================================================================\n",
            "Total params: 34,826\n",
            "Trainable params: 34,826\n",
            "Non-trainable params: 0\n",
            "_________________________________________________________________\n"
          ]
        }
      ]
    },
    {
      "cell_type": "markdown",
      "source": [
        "Once the model is created, we can:\n",
        "* config the model with losses and metrics with model.compile(), \n",
        "* train the model with model.fit(),\n",
        "* or use the model to do prediction with model.predict()."
      ],
      "metadata": {
        "id": "jXmLlJIJK_d7"
      }
    },
    {
      "cell_type": "code",
      "source": [
        "model.compile(loss = \"categorical_crossentropy\", # loss function\n",
        "              optimizer = \"adam\", \n",
        "              metrics = [\"accuracy\"]) # list of metrics to be evaluated by the model during training and testing.\n",
        "\n",
        "epochs = 15 # number of iterations over the entire x and y data to train the model\n",
        "batch_size = 128 # number of samples per gradient update\n",
        "\n",
        "model.fit(xl,\n",
        "          yl, \n",
        "          batch_size = batch_size,\n",
        "          epochs = epochs,\n",
        "          validation_split = 0.1) # fraction of the training data to be used as validation data"
      ],
      "metadata": {
        "colab": {
          "base_uri": "https://localhost:8080/"
        },
        "id": "U5fP4FvTww-4",
        "outputId": "91e59e20-653b-47e7-d891-57ddd284a5fa"
      },
      "execution_count": 18,
      "outputs": [
        {
          "output_type": "stream",
          "name": "stdout",
          "text": [
            "Epoch 1/15\n",
            "422/422 [==============================] - 10s 6ms/step - loss: 0.3571 - accuracy: 0.8917 - val_loss: 0.0813 - val_accuracy: 0.9795\n",
            "Epoch 2/15\n",
            "422/422 [==============================] - 2s 5ms/step - loss: 0.1095 - accuracy: 0.9668 - val_loss: 0.0577 - val_accuracy: 0.9838\n",
            "Epoch 3/15\n",
            "422/422 [==============================] - 2s 5ms/step - loss: 0.0835 - accuracy: 0.9740 - val_loss: 0.0469 - val_accuracy: 0.9880\n",
            "Epoch 4/15\n",
            "422/422 [==============================] - 2s 5ms/step - loss: 0.0702 - accuracy: 0.9786 - val_loss: 0.0428 - val_accuracy: 0.9873\n",
            "Epoch 5/15\n",
            "422/422 [==============================] - 2s 5ms/step - loss: 0.0603 - accuracy: 0.9811 - val_loss: 0.0403 - val_accuracy: 0.9897\n",
            "Epoch 6/15\n",
            "422/422 [==============================] - 2s 5ms/step - loss: 0.0543 - accuracy: 0.9826 - val_loss: 0.0356 - val_accuracy: 0.9907\n",
            "Epoch 7/15\n",
            "422/422 [==============================] - 2s 5ms/step - loss: 0.0516 - accuracy: 0.9841 - val_loss: 0.0350 - val_accuracy: 0.9915\n",
            "Epoch 8/15\n",
            "422/422 [==============================] - 2s 5ms/step - loss: 0.0479 - accuracy: 0.9852 - val_loss: 0.0327 - val_accuracy: 0.9915\n",
            "Epoch 9/15\n",
            "422/422 [==============================] - 2s 5ms/step - loss: 0.0451 - accuracy: 0.9856 - val_loss: 0.0327 - val_accuracy: 0.9912\n",
            "Epoch 10/15\n",
            "422/422 [==============================] - 2s 5ms/step - loss: 0.0418 - accuracy: 0.9868 - val_loss: 0.0316 - val_accuracy: 0.9912\n",
            "Epoch 11/15\n",
            "422/422 [==============================] - 2s 5ms/step - loss: 0.0390 - accuracy: 0.9875 - val_loss: 0.0312 - val_accuracy: 0.9912\n",
            "Epoch 12/15\n",
            "422/422 [==============================] - 2s 5ms/step - loss: 0.0395 - accuracy: 0.9876 - val_loss: 0.0294 - val_accuracy: 0.9917\n",
            "Epoch 13/15\n",
            "422/422 [==============================] - 2s 5ms/step - loss: 0.0362 - accuracy: 0.9884 - val_loss: 0.0298 - val_accuracy: 0.9920\n",
            "Epoch 14/15\n",
            "422/422 [==============================] - 2s 5ms/step - loss: 0.0335 - accuracy: 0.9889 - val_loss: 0.0281 - val_accuracy: 0.9910\n",
            "Epoch 15/15\n",
            "422/422 [==============================] - 2s 5ms/step - loss: 0.0335 - accuracy: 0.9893 - val_loss: 0.0317 - val_accuracy: 0.9903\n"
          ]
        },
        {
          "output_type": "execute_result",
          "data": {
            "text/plain": [
              "<keras.callbacks.History at 0x7fd26c550e90>"
            ]
          },
          "metadata": {},
          "execution_count": 18
        }
      ]
    },
    {
      "cell_type": "markdown",
      "source": [
        "We can now **evaluate** the accuracy of this model (expected above 99%)"
      ],
      "metadata": {
        "id": "6rJUj3jgM5g5"
      }
    },
    {
      "cell_type": "code",
      "source": [
        "acc = model.evaluate(xt,yt) # input and target data\n",
        "print(acc[1])"
      ],
      "metadata": {
        "colab": {
          "base_uri": "https://localhost:8080/"
        },
        "id": "RDzIxudf2f_6",
        "outputId": "96c70c0c-9ed2-4946-80c7-ec480a2ca15b"
      },
      "execution_count": null,
      "outputs": [
        {
          "output_type": "stream",
          "name": "stdout",
          "text": [
            "313/313 [==============================] - 1s 3ms/step - loss: 0.0227 - accuracy: 0.9925\n",
            "0.9925000071525574\n"
          ]
        }
      ]
    },
    {
      "cell_type": "markdown",
      "source": [
        "And confirm our results through a **confusion matrix**"
      ],
      "metadata": {
        "id": "Za8EbJLYNKwC"
      }
    },
    {
      "cell_type": "code",
      "source": [
        "from sklearn.metrics import confusion_matrix\n",
        "yp = model.predict(xt)\n",
        "yp = yp.argmax(1)\n",
        "yt = yt.argmax(1)\n",
        "confusion_matrix(yt,yp)"
      ],
      "metadata": {
        "colab": {
          "base_uri": "https://localhost:8080/"
        },
        "id": "PHkrDmqT00Yc",
        "outputId": "840c3522-05cf-4aed-8e6e-c37e05b3a30d"
      },
      "execution_count": null,
      "outputs": [
        {
          "output_type": "stream",
          "name": "stdout",
          "text": [
            "313/313 [==============================] - 1s 2ms/step\n"
          ]
        },
        {
          "output_type": "execute_result",
          "data": {
            "text/plain": [
              "array([[ 978,    0,    0,    0,    0,    0,    0,    1,    1,    0],\n",
              "       [   0, 1133,    1,    0,    0,    0,    1,    0,    0,    0],\n",
              "       [   1,    1, 1023,    0,    1,    0,    1,    3,    2,    0],\n",
              "       [   0,    0,    2, 1003,    0,    3,    0,    0,    2,    0],\n",
              "       [   0,    0,    0,    0,  979,    0,    0,    0,    0,    3],\n",
              "       [   0,    0,    0,    6,    0,  883,    1,    0,    1,    1],\n",
              "       [   3,    2,    0,    0,    2,    2,  948,    0,    1,    0],\n",
              "       [   0,    3,    5,    2,    0,    1,    0, 1015,    1,    1],\n",
              "       [   2,    0,    1,    0,    1,    1,    0,    0,  967,    2],\n",
              "       [   0,    0,    0,    0,    4,    5,    1,    2,    1,  996]])"
            ]
          },
          "metadata": {},
          "execution_count": 87
        }
      ]
    }
  ]
}